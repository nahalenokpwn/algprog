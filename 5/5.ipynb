{
 "cells": [
  {
   "cell_type": "code",
   "execution_count": 347,
   "metadata": {},
   "outputs": [],
   "source": [
    "using HorizonSideRobots"
   ]
  },
  {
   "cell_type": "code",
   "execution_count": 348,
   "metadata": {},
   "outputs": [],
   "source": [
    "a = Robot(\"untitled.sit\", animate=true);"
   ]
  },
  {
   "cell_type": "code",
   "execution_count": 349,
   "metadata": {},
   "outputs": [
    {
     "data": {
      "text/plain": [
       "fill_side (generic function with 1 method)"
      ]
     },
     "metadata": {},
     "output_type": "display_data"
    }
   ],
   "source": [
    "function fill_side(r, side)\n",
    "    while !isborder(r, side)\n",
    "        move!(r, side)\n",
    "        putmarker!(r)\n",
    "    end\n",
    "end"
   ]
  },
  {
   "cell_type": "code",
   "execution_count": 350,
   "metadata": {},
   "outputs": [],
   "source": [
    "function HorizonSideRobots.move!(r, side, steps)\n",
    "    for i in range(1, steps)\n",
    "        move!(r, side)\n",
    "    end\n",
    "end"
   ]
  },
  {
   "cell_type": "code",
   "execution_count": 351,
   "metadata": {},
   "outputs": [
    {
     "data": {
      "text/plain": [
       "move_aside! (generic function with 1 method)"
      ]
     },
     "metadata": {},
     "output_type": "display_data"
    }
   ],
   "source": [
    "function move_aside!(r, side, steps_need)\n",
    "    count = 0\n",
    "    while !isborder(r, side)\n",
    "        move!(r, side)\n",
    "        count += 1\n",
    "    end\n",
    "    if count < steps_need\n",
    "        return true\n",
    "    end\n",
    "    if !isborder(r, Nord)\n",
    "        move!(r, Nord)\n",
    "        return false\n",
    "    end\n",
    "end"
   ]
  },
  {
   "cell_type": "code",
   "execution_count": 352,
   "metadata": {},
   "outputs": [
    {
     "data": {
      "text/plain": [
       "inverse (generic function with 1 method)"
      ]
     },
     "metadata": {},
     "output_type": "display_data"
    }
   ],
   "source": [
    "function inverse(side)\n",
    "    if side == Nord\n",
    "        return Sud\n",
    "    end\n",
    "    if side == Sud\n",
    "        return Nord\n",
    "    end\n",
    "    if side == West\n",
    "        return Ost\n",
    "    end\n",
    "    if side == Ost\n",
    "        return West\n",
    "    end\n",
    "end"
   ]
  },
  {
   "cell_type": "code",
   "execution_count": 353,
   "metadata": {},
   "outputs": [
    {
     "data": {
      "text/plain": [
       "find_s_bord (generic function with 1 method)"
      ]
     },
     "metadata": {},
     "output_type": "display_data"
    }
   ],
   "source": [
    "function find_s_bord(r)\n",
    "    side = Ost\n",
    "    steps_aside = 0\n",
    "    while !isborder(r, side)\n",
    "        move!(r, side)\n",
    "        steps_aside += 1\n",
    "    end\n",
    "    if !isborder(r, Nord)\n",
    "        move!(r, Nord)\n",
    "    end\n",
    "    side = inverse(side)\n",
    "    finded = false\n",
    "    while !finded\n",
    "        finded = move_aside!(r, side, steps_aside)\n",
    "        side = inverse(side)\n",
    "    end\n",
    "    return inverse(side)\n",
    "end"
   ]
  },
  {
   "cell_type": "code",
   "execution_count": 354,
   "metadata": {},
   "outputs": [
    {
     "data": {
      "text/plain": [
       "mark_side! (generic function with 1 method)"
      ]
     },
     "metadata": {},
     "output_type": "display_data"
    }
   ],
   "source": [
    "function mark_side!(r, side, side_b)\n",
    "    while isborder(r, side_b)\n",
    "        move!(r, side)\n",
    "        putmarker!(r)\n",
    "    end\n",
    "end"
   ]
  },
  {
   "cell_type": "code",
   "execution_count": 355,
   "metadata": {},
   "outputs": [
    {
     "data": {
      "text/plain": [
       "mark_s_bord (generic function with 1 method)"
      ]
     },
     "metadata": {},
     "output_type": "display_data"
    }
   ],
   "source": [
    "function mark_s_bord(r, side)\n",
    "    putmarker!(r)\n",
    "    mark_side!(r, Nord, side)\n",
    "    move!(r, Ost)\n",
    "    putmarker!(r)\n",
    "    mark_side!(r, side, Sud)\n",
    "    move!(r, Sud)\n",
    "    putmarker!(r)\n",
    "    mark_side!(r, Sud, inverse(side))\n",
    "    move!(r, West)\n",
    "    putmarker!(r)\n",
    "    mark_side!(r, inverse(side), Nord)\n",
    "    move!(r, Nord)\n",
    "end"
   ]
  },
  {
   "cell_type": "code",
   "execution_count": 356,
   "metadata": {},
   "outputs": [
    {
     "data": {
      "text/plain": [
       "to_start! (generic function with 1 method)"
      ]
     },
     "metadata": {},
     "output_type": "display_data"
    }
   ],
   "source": [
    "function to_start!(r)\n",
    "    steps_sud = 0\n",
    "    steps_west = 0\n",
    "    while !isborder(a, Sud)\n",
    "        move!(a, Sud)\n",
    "        steps_sud += 1\n",
    "    end\n",
    "    while !isborder(a, West)\n",
    "        move!(a, West)\n",
    "        steps_west += 1\n",
    "    end\n",
    "    return steps_sud, steps_west\n",
    "end"
   ]
  },
  {
   "cell_type": "code",
   "execution_count": 357,
   "metadata": {},
   "outputs": [
    {
     "data": {
      "text/plain": [
       "fill_out_b (generic function with 1 method)"
      ]
     },
     "metadata": {},
     "output_type": "display_data"
    }
   ],
   "source": [
    "function fill_out_b(r)\n",
    "    fill_side(r, Nord)\n",
    "    fill_side(r, Ost)\n",
    "    fill_side(r, Sud)\n",
    "    fill_side(r, West)\n",
    "end"
   ]
  },
  {
   "cell_type": "code",
   "execution_count": 358,
   "metadata": {},
   "outputs": [
    {
     "data": {
      "text/plain": [
       "main (generic function with 1 method)"
      ]
     },
     "metadata": {},
     "output_type": "display_data"
    }
   ],
   "source": [
    "function main(r)\n",
    "    sts, stw = to_start!(r)\n",
    "    side_s = find_s_bord(r)\n",
    "    mark_s_bord(r, side_s)\n",
    "    to_start!(r)\n",
    "    fill_out_b(r)\n",
    "    move!(r, Nord, sts)\n",
    "    move!(r, Ost, stw)\n",
    "end"
   ]
  },
  {
   "cell_type": "code",
   "execution_count": 359,
   "metadata": {},
   "outputs": [],
   "source": [
    "main(a)"
   ]
  }
 ],
 "metadata": {
  "kernelspec": {
   "display_name": "Julia 1.9.3",
   "language": "julia",
   "name": "julia-1.9"
  },
  "language_info": {
   "file_extension": ".jl",
   "mimetype": "application/julia",
   "name": "julia",
   "version": "1.9.3"
  },
  "orig_nbformat": 4
 },
 "nbformat": 4,
 "nbformat_minor": 2
}
