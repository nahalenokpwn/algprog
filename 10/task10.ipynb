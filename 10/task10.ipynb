{
 "cells": [
  {
   "cell_type": "code",
   "execution_count": 432,
   "metadata": {},
   "outputs": [],
   "source": [
    "using HorizonSideRobots"
   ]
  },
  {
   "cell_type": "code",
   "execution_count": 433,
   "metadata": {},
   "outputs": [],
   "source": [
    "a = Robot(\"untitled.sit\", animate=true);"
   ]
  },
  {
   "cell_type": "code",
   "execution_count": 434,
   "metadata": {},
   "outputs": [
    {
     "data": {
      "text/plain": [
       "try_move! (generic function with 1 method)"
      ]
     },
     "metadata": {},
     "output_type": "display_data"
    }
   ],
   "source": [
    "function try_move!(r, side)\n",
    "    if !isborder(r, side)\n",
    "        move!(r, side)\n",
    "        return true\n",
    "    end\n",
    "    return false\n",
    "end"
   ]
  },
  {
   "cell_type": "code",
   "execution_count": 435,
   "metadata": {},
   "outputs": [],
   "source": [
    "function HorizonSideRobots.move!(r, side, n_steps)\n",
    "    for _ in range(1, n_steps)\n",
    "        try_move!(r, side)\n",
    "    end\n",
    "end"
   ]
  },
  {
   "cell_type": "code",
   "execution_count": 436,
   "metadata": {},
   "outputs": [
    {
     "data": {
      "text/plain": [
       "inverse (generic function with 1 method)"
      ]
     },
     "metadata": {},
     "output_type": "display_data"
    }
   ],
   "source": [
    "function inverse(side)\n",
    "    if side == Sud\n",
    "        return Nord\n",
    "    end\n",
    "    if side == Nord\n",
    "        return Sud\n",
    "    end\n",
    "    if side == Ost\n",
    "        return West\n",
    "    end\n",
    "    if side == West\n",
    "        return Ost\n",
    "    end\n",
    "end"
   ]
  },
  {
   "cell_type": "code",
   "execution_count": 437,
   "metadata": {},
   "outputs": [
    {
     "data": {
      "text/plain": [
       "to_start! (generic function with 1 method)"
      ]
     },
     "metadata": {},
     "output_type": "display_data"
    }
   ],
   "source": [
    "function to_start!(r)\n",
    "    steps_s = 0\n",
    "    steps_w = 0\n",
    "    while !isborder(r, Sud)\n",
    "        move!(r, Sud)\n",
    "        steps_s += 1\n",
    "    end\n",
    "    while !isborder(r, West)\n",
    "        move!(r, West)\n",
    "        steps_w += 1\n",
    "    end\n",
    "    return steps_s, steps_w\n",
    "end"
   ]
  },
  {
   "cell_type": "code",
   "execution_count": 438,
   "metadata": {},
   "outputs": [
    {
     "data": {
      "text/plain": [
       "mark_box! (generic function with 1 method)"
      ]
     },
     "metadata": {},
     "output_type": "display_data"
    }
   ],
   "source": [
    "function mark_box!(r, side_m, n)\n",
    "    side = Nord\n",
    "    n_2 = 0\n",
    "    flag = true\n",
    "    steps_s_m = 1\n",
    "    for _ in range(1, n - 1)\n",
    "        putmarker!(r)\n",
    "        flag = try_move!(r, side)\n",
    "        if flag == true\n",
    "            n_2 += 1\n",
    "        end\n",
    "    end\n",
    "    putmarker!(r)\n",
    "    try_move!(r, side_m)\n",
    "    side = inverse(side)\n",
    "    for _ in range(1, n - 1)\n",
    "        for _ in range(1, n_2)\n",
    "            putmarker!(r)\n",
    "            try_move!(r, side)\n",
    "        end\n",
    "        putmarker!(r)\n",
    "        if steps_s_m + 1 != n\n",
    "            try_move!(r, side_m)\n",
    "        end\n",
    "        steps_s_m += 1\n",
    "        side = inverse(side)\n",
    "    end\n",
    "    if side == Sud\n",
    "        return n_2\n",
    "    else\n",
    "        return 0\n",
    "    end\n",
    "end"
   ]
  },
  {
   "cell_type": "code",
   "execution_count": 439,
   "metadata": {},
   "outputs": [
    {
     "data": {
      "text/plain": [
       "mark_side! (generic function with 1 method)"
      ]
     },
     "metadata": {},
     "output_type": "display_data"
    }
   ],
   "source": [
    "function mark_side!(r, side_m, n)\n",
    "    while !isborder(r, side_m)\n",
    "        n_2 = mark_box!(r, side_m, n)\n",
    "        try_move!(r, side_m)\n",
    "        move!(r, Sud, n_2)\n",
    "        move!(r, side_m, n)\n",
    "    end\n",
    "    if ismarker(r)\n",
    "        return false\n",
    "    end\n",
    "    return true\n",
    "end"
   ]
  },
  {
   "cell_type": "code",
   "execution_count": 440,
   "metadata": {},
   "outputs": [
    {
     "data": {
      "text/plain": [
       "mark_chess_nxn! (generic function with 1 method)"
      ]
     },
     "metadata": {},
     "output_type": "display_data"
    }
   ],
   "source": [
    "function mark_chess_nxn!(r, n)\n",
    "    side = Ost\n",
    "    flag = true\n",
    "    while !isborder(r, Nord)\n",
    "        flag, = mark_side!(r, side, n)\n",
    "        move!(r, Nord, n)\n",
    "        side = inverse(side)\n",
    "        if flag == false\n",
    "            move!(r, side, n)\n",
    "        end\n",
    "    end\n",
    "end"
   ]
  },
  {
   "cell_type": "code",
   "execution_count": 441,
   "metadata": {},
   "outputs": [
    {
     "data": {
      "text/plain": [
       "main! (generic function with 1 method)"
      ]
     },
     "metadata": {},
     "output_type": "display_data"
    }
   ],
   "source": [
    "function main!(r, n)\n",
    "    s_s, s_w = to_start!(r)\n",
    "    mark_chess_nxn!(r, n)\n",
    "    to_start!(r)\n",
    "    move!(r, Nord, s_s)\n",
    "    move!(r, Ost, s_w)\n",
    "end"
   ]
  },
  {
   "cell_type": "code",
   "execution_count": 442,
   "metadata": {},
   "outputs": [],
   "source": [
    "main!(a, 3)"
   ]
  }
 ],
 "metadata": {
  "kernelspec": {
   "display_name": "Julia 1.9.3",
   "language": "julia",
   "name": "julia-1.9"
  },
  "language_info": {
   "file_extension": ".jl",
   "mimetype": "application/julia",
   "name": "julia",
   "version": "1.9.3"
  },
  "orig_nbformat": 4
 },
 "nbformat": 4,
 "nbformat_minor": 2
}
