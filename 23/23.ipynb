{
 "cells": [
  {
   "cell_type": "code",
   "execution_count": 37,
   "metadata": {},
   "outputs": [],
   "source": [
    "using HorizonSideRobots"
   ]
  },
  {
   "cell_type": "code",
   "execution_count": 38,
   "metadata": {},
   "outputs": [],
   "source": [
    "a = Robot(\"untitled.sit\", animate=true);"
   ]
  },
  {
   "cell_type": "code",
   "execution_count": 39,
   "metadata": {},
   "outputs": [
    {
     "data": {
      "text/plain": [
       "inverse (generic function with 1 method)"
      ]
     },
     "metadata": {},
     "output_type": "display_data"
    }
   ],
   "source": [
    "function inverse(side)\n",
    "    if side == Sud\n",
    "        return Nord\n",
    "    end\n",
    "    if side == Nord\n",
    "        return Sud\n",
    "    end\n",
    "    if side == West\n",
    "        return Ost\n",
    "    end\n",
    "    if side == Ost\n",
    "        return West\n",
    "    end\n",
    "end"
   ]
  },
  {
   "cell_type": "code",
   "execution_count": 40,
   "metadata": {},
   "outputs": [
    {
     "data": {
      "text/plain": [
       "try_move! (generic function with 1 method)"
      ]
     },
     "metadata": {},
     "output_type": "display_data"
    }
   ],
   "source": [
    "function try_move!(r, side)\n",
    "    if !isborder(r, side)\n",
    "        move!(r, side)\n",
    "        return true\n",
    "    end\n",
    "    return false\n",
    "end"
   ]
  },
  {
   "cell_type": "code",
   "execution_count": 42,
   "metadata": {},
   "outputs": [
    {
     "data": {
      "text/plain": [
       "rec_move! (generic function with 1 method)"
      ]
     },
     "metadata": {},
     "output_type": "display_data"
    }
   ],
   "source": [
    "function rec_move!(r, side, cnt, counted, forward)\n",
    "    if cnt == 0 && counted == true && forward == true\n",
    "        return 0\n",
    "    end\n",
    "    if try_move!(r, side)\n",
    "        if counted == false && forward == true\n",
    "            rec_move!(r, side, cnt+1, counted, forward)\n",
    "        end\n",
    "        if counted == true && forward == false\n",
    "            rec_move!(r, side, cnt, counted, forward)\n",
    "        end\n",
    "        if counted == true && forward == true\n",
    "            rec_move!(r, side, cnt-1, counted, forward)\n",
    "        end\n",
    "    else\n",
    "        if forward == true\n",
    "            rec_move!(r, inverse(side), cnt, true, false)\n",
    "        end\n",
    "        if forward == false\n",
    "            rec_move!(r, inverse(side), cnt, true, true)\n",
    "        end\n",
    "    end\n",
    "end"
   ]
  },
  {
   "cell_type": "code",
   "execution_count": 43,
   "metadata": {},
   "outputs": [],
   "source": [
    "rec_move!(a, Ost, 0, false, true)"
   ]
  }
 ],
 "metadata": {
  "kernelspec": {
   "display_name": "Julia 1.9.3",
   "language": "julia",
   "name": "julia-1.9"
  },
  "language_info": {
   "file_extension": ".jl",
   "mimetype": "application/julia",
   "name": "julia",
   "version": "1.9.3"
  },
  "orig_nbformat": 4
 },
 "nbformat": 4,
 "nbformat_minor": 2
}
