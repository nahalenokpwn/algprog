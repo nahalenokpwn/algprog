{
 "cells": [
  {
   "cell_type": "code",
   "execution_count": 214,
   "metadata": {},
   "outputs": [],
   "source": [
    "using HorizonSideRobots"
   ]
  },
  {
   "cell_type": "code",
   "execution_count": 215,
   "metadata": {},
   "outputs": [],
   "source": [
    "a = Robot(\"untitled.sit\", animate=true);"
   ]
  },
  {
   "cell_type": "code",
   "execution_count": 216,
   "metadata": {},
   "outputs": [
    {
     "data": {
      "text/plain": [
       "inverse (generic function with 1 method)"
      ]
     },
     "metadata": {},
     "output_type": "display_data"
    }
   ],
   "source": [
    "function inverse(side)\n",
    "    if side == Ost\n",
    "        return West\n",
    "    end\n",
    "    if side == West\n",
    "        return Ost\n",
    "    end\n",
    "    if side == Sud\n",
    "        return Nord\n",
    "    end\n",
    "    if side == Nord\n",
    "        return Sud\n",
    "    end\n",
    "end"
   ]
  },
  {
   "cell_type": "code",
   "execution_count": 217,
   "metadata": {},
   "outputs": [
    {
     "data": {
      "text/plain": [
       "along! (generic function with 1 method)"
      ]
     },
     "metadata": {},
     "output_type": "display_data"
    }
   ],
   "source": [
    "function along!(r, side)\n",
    "    while !isborder(r, side)\n",
    "        move!(r, side)\n",
    "    end\n",
    "end"
   ]
  },
  {
   "cell_type": "code",
   "execution_count": 218,
   "metadata": {},
   "outputs": [
    {
     "data": {
      "text/plain": [
       "try_move! (generic function with 1 method)"
      ]
     },
     "metadata": {},
     "output_type": "display_data"
    }
   ],
   "source": [
    "function try_move!(r, side)\n",
    "    if !isborder(r, side)\n",
    "        move!(r, side)\n",
    "        return true\n",
    "    end\n",
    "    return false\n",
    "end"
   ]
  },
  {
   "cell_type": "code",
   "execution_count": 219,
   "metadata": {},
   "outputs": [],
   "source": [
    "function HorizonSideRobots.move!(r, side, n_steps)\n",
    "    steps_done = 0\n",
    "    for _ in range(1, n_steps)\n",
    "        if try_move!(r, side)\n",
    "            steps_done += 1\n",
    "        end\n",
    "    end\n",
    "    return steps_done\n",
    "end"
   ]
  },
  {
   "cell_type": "code",
   "execution_count": 220,
   "metadata": {},
   "outputs": [
    {
     "data": {
      "text/plain": [
       "snake_chess! (generic function with 1 method)"
      ]
     },
     "metadata": {},
     "output_type": "display_data"
    }
   ],
   "source": [
    "function snake_chess!(r, side, ort_side, prev_marked)\n",
    "    move_side = side\n",
    "    steps_ort = 1\n",
    "    prev_marked_next = mark_any_line!(r, side, prev_marked)\n",
    "    while !isborder(r, ort_side)\n",
    "        move!(r, ort_side)\n",
    "        steps_ort += 1\n",
    "        move_side = inverse(move_side)\n",
    "        prev_marked_next = mark_any_line!(r, move_side, prev_marked_next)\n",
    "    end\n",
    "    return steps_ort, move_side == ort_side\n",
    "end"
   ]
  },
  {
   "cell_type": "code",
   "execution_count": 221,
   "metadata": {},
   "outputs": [
    {
     "data": {
      "text/plain": [
       "mark_any_line! (generic function with 1 method)"
      ]
     },
     "metadata": {},
     "output_type": "display_data"
    }
   ],
   "source": [
    "function mark_any_line!(r, move_side, prev_marked)\n",
    "    if prev_marked == false\n",
    "        putmarker!(r)\n",
    "    end\n",
    "    while !isborder(r, move_side)\n",
    "        steps_done = move!(r, move_side, 2)\n",
    "        if steps_done == 2\n",
    "            putmarker!(r)\n",
    "        end\n",
    "    end\n",
    "    if ismarker(r)\n",
    "        return true\n",
    "    end\n",
    "    return false\n",
    "end"
   ]
  },
  {
   "cell_type": "code",
   "execution_count": 222,
   "metadata": {},
   "outputs": [
    {
     "data": {
      "text/plain": [
       "mark_first_line! (generic function with 1 method)"
      ]
     },
     "metadata": {},
     "output_type": "display_data"
    }
   ],
   "source": [
    "function mark_first_line!(r)\n",
    "    putmarker!(r)\n",
    "    steps_ost = 0\n",
    "    while !isborder(r, Ost)\n",
    "        steps_done = move!(r, Ost, 2)\n",
    "        if steps_done == 2\n",
    "            putmarker!(r)\n",
    "        end\n",
    "        steps_ost += steps_done\n",
    "    end\n",
    "    move!(r, West, steps_ost)\n",
    "    steps_west = 0\n",
    "    while !isborder(r, West)\n",
    "        steps_done = move!(r, West, 2)\n",
    "        if steps_done == 2\n",
    "            putmarker!(r)\n",
    "        end\n",
    "        steps_west += steps_done\n",
    "    end\n",
    "    return steps_west\n",
    "end"
   ]
  },
  {
   "cell_type": "code",
   "execution_count": 223,
   "metadata": {},
   "outputs": [
    {
     "data": {
      "text/plain": [
       "main! (generic function with 1 method)"
      ]
     },
     "metadata": {},
     "output_type": "display_data"
    }
   ],
   "source": [
    "function main!(r)\n",
    "    steps_west = mark_first_line!(r)\n",
    "    first_marked = ismarker(r)\n",
    "    move!(r, Sud)\n",
    "    steps_sud, side_back = snake_chess!(a, Ost, Sud, first_marked)\n",
    "    move!(a, Nord, steps_sud)\n",
    "    if side_back\n",
    "        along!(a, Ost)\n",
    "    else\n",
    "        along!(a, West)\n",
    "    end\n",
    "    first_marked = ismarker(r)\n",
    "    move!(r, Nord)\n",
    "    steps_nord, side_back = snake_chess!(r, Ost, Nord, first_marked)\n",
    "    move!(a, Sud, steps_nord)\n",
    "    if side_back\n",
    "        along!(a, Ost)\n",
    "    else\n",
    "        along!(a, West)\n",
    "    end\n",
    "    move!(r, Ost, steps_west)\n",
    "end"
   ]
  },
  {
   "cell_type": "code",
   "execution_count": 224,
   "metadata": {},
   "outputs": [],
   "source": [
    "main!(a)"
   ]
  }
 ],
 "metadata": {
  "kernelspec": {
   "display_name": "Julia 1.9.3",
   "language": "julia",
   "name": "julia-1.9"
  },
  "language_info": {
   "file_extension": ".jl",
   "mimetype": "application/julia",
   "name": "julia",
   "version": "1.9.3"
  },
  "orig_nbformat": 4
 },
 "nbformat": 4,
 "nbformat_minor": 2
}
