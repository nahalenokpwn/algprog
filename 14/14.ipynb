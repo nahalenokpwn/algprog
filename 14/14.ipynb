{
 "cells": [
  {
   "cell_type": "code",
   "execution_count": 272,
   "metadata": {},
   "outputs": [],
   "source": [
    "using HorizonSideRobots"
   ]
  },
  {
   "cell_type": "code",
   "execution_count": 284,
   "metadata": {},
   "outputs": [],
   "source": [
    "a = Robot(\"untitled.sit\",animate=true);"
   ]
  },
  {
   "cell_type": "code",
   "execution_count": 274,
   "metadata": {},
   "outputs": [
    {
     "data": {
      "text/plain": [
       "inverse (generic function with 1 method)"
      ]
     },
     "metadata": {},
     "output_type": "display_data"
    }
   ],
   "source": [
    "function inverse(side)\n",
    "    if side == Ost\n",
    "        return West\n",
    "    end\n",
    "    if side == West\n",
    "        return Ost\n",
    "    end\n",
    "    if side == Sud\n",
    "        return Nord\n",
    "    end\n",
    "    if side == Nord\n",
    "        return Sud\n",
    "    end\n",
    "end"
   ]
  },
  {
   "cell_type": "code",
   "execution_count": 275,
   "metadata": {},
   "outputs": [
    {
     "data": {
      "text/plain": [
       "along! (generic function with 1 method)"
      ]
     },
     "metadata": {},
     "output_type": "display_data"
    }
   ],
   "source": [
    "function along!(r, side)\n",
    "    while !isborder(r, side)\n",
    "        move!(r, side)\n",
    "    end\n",
    "end"
   ]
  },
  {
   "cell_type": "code",
   "execution_count": 276,
   "metadata": {},
   "outputs": [
    {
     "data": {
      "text/plain": [
       "try_move! (generic function with 1 method)"
      ]
     },
     "metadata": {},
     "output_type": "display_data"
    }
   ],
   "source": [
    "function try_move!(r, side)\n",
    "    if !isborder(r, side)\n",
    "        move!(r, side)\n",
    "        return true\n",
    "    end\n",
    "    return false\n",
    "end"
   ]
  },
  {
   "cell_type": "code",
   "execution_count": 277,
   "metadata": {},
   "outputs": [],
   "source": [
    "function HorizonSideRobots.move!(r, side, n_steps)\n",
    "    steps_done = 0\n",
    "    for _ in range(1, n_steps)\n",
    "        if try_move!(r, side)\n",
    "            steps_done += 1\n",
    "        end\n",
    "    end\n",
    "    return steps_done\n",
    "end"
   ]
  },
  {
   "cell_type": "code",
   "execution_count": 278,
   "metadata": {},
   "outputs": [
    {
     "data": {
      "text/plain": [
       "mark_first_line! (generic function with 1 method)"
      ]
     },
     "metadata": {},
     "output_type": "display_data"
    }
   ],
   "source": [
    "function mark_first_line!(r)\n",
    "    putmarker!(r)\n",
    "    steps_ost = 0\n",
    "    while !isborder(r, Ost)\n",
    "        steps_done = move!(r, Ost, 2)\n",
    "        if steps_done == 2\n",
    "            putmarker!(r)\n",
    "        end\n",
    "        steps_ost += steps_done\n",
    "    end\n",
    "    move!(r, West, steps_ost)\n",
    "    steps_west = 0\n",
    "    while !isborder(r, West)\n",
    "        steps_done = move!(r, West, 2)\n",
    "        if steps_done == 2\n",
    "            putmarker!(r)\n",
    "        end\n",
    "        steps_west += steps_done\n",
    "    end\n",
    "    return steps_west\n",
    "end"
   ]
  },
  {
   "cell_type": "code",
   "execution_count": 279,
   "metadata": {},
   "outputs": [
    {
     "data": {
      "text/plain": [
       "to_start! (generic function with 1 method)"
      ]
     },
     "metadata": {},
     "output_type": "display_data"
    }
   ],
   "source": [
    "function to_start!(r)\n",
    "    marked = ismarker(r)\n",
    "    arr = []\n",
    "    while !(isborder(r, Sud) && isborder(r, West))\n",
    "        steps_sud = 0\n",
    "        steps_west = 0\n",
    "        if try_move!(r, Sud)\n",
    "            steps_sud += 1\n",
    "            marked = !marked\n",
    "        end\n",
    "        if try_move!(r, West)\n",
    "            steps_west += 1\n",
    "            marked = !marked\n",
    "        end\n",
    "        append!(arr, steps_sud)\n",
    "        append!(arr, steps_west)\n",
    "    end\n",
    "    return arr, marked\n",
    "end"
   ]
  },
  {
   "cell_type": "code",
   "execution_count": 280,
   "metadata": {},
   "outputs": [
    {
     "data": {
      "text/plain": [
       "mark_any_line! (generic function with 1 method)"
      ]
     },
     "metadata": {},
     "output_type": "display_data"
    }
   ],
   "source": [
    "function mark_any_line!(r, side, first_marked)\n",
    "    if first_marked\n",
    "        putmarker!(r)\n",
    "    else\n",
    "        if try_move!(r, side)\n",
    "            putmarker!(r)\n",
    "        end\n",
    "    end\n",
    "    while !isborder(r, side)\n",
    "        moved = move!(r, side, 2)\n",
    "        if moved == 2\n",
    "            putmarker!(r)\n",
    "        end\n",
    "    end\n",
    "    along!(r, inverse(side))\n",
    "end"
   ]
  },
  {
   "cell_type": "code",
   "execution_count": 281,
   "metadata": {},
   "outputs": [
    {
     "data": {
      "text/plain": [
       "mark_all! (generic function with 3 methods)"
      ]
     },
     "metadata": {},
     "output_type": "display_data"
    }
   ],
   "source": [
    "function mark_all!(r, marked, side, ort_side)\n",
    "    mark_any_line!(r, side, marked)\n",
    "    while !isborder(r, ort_side)\n",
    "        marked_2 = !ismarker(r)\n",
    "        move!(r, ort_side)\n",
    "        mark_any_line!(r, side, marked_2)\n",
    "    end\n",
    "end"
   ]
  },
  {
   "cell_type": "code",
   "execution_count": null,
   "metadata": {},
   "outputs": [],
   "source": [
    "function main!(r)\n",
    "    steps_west_fl = mark_first_line!(r)\n",
    "    arr, marked = to_start!(r)\n",
    "    mark_all!(r, marked, Nord, Ost)\n",
    "    along!(r, Nord)\n",
    "    marked = ismarker(r)\n",
    "    mark_all!(r, marked, Sud, West)\n",
    "    along!(r, Sud)\n",
    "    marked = ismarker(r)\n",
    "    mark_all!(r, marked, Ost, Nord)\n",
    "    along!(r, Sud)\n",
    "    along!(r, Ost)\n",
    "    marked = ismarker(r)\n",
    "    mark_all!(r, marked, West, Nord)\n",
    "    along!(r, Sud)\n",
    "    along!(r, West)\n",
    "    side = Ost\n",
    "    for i in range(-length(arr), -1)\n",
    "        move!(r, side, arr[abs(i)])\n",
    "        if side == Ost\n",
    "            side = Nord\n",
    "        else\n",
    "            side = Ost\n",
    "        end\n",
    "    end\n",
    "    move!(r, Ost, steps_west_fl)\n",
    "end"
   ]
  },
  {
   "cell_type": "code",
   "execution_count": null,
   "metadata": {},
   "outputs": [],
   "source": [
    "main!(a)"
   ]
  }
 ],
 "metadata": {
  "kernelspec": {
   "display_name": "Julia 1.9.3",
   "language": "julia",
   "name": "julia-1.9"
  },
  "language_info": {
   "file_extension": ".jl",
   "mimetype": "application/julia",
   "name": "julia",
   "version": "1.9.3"
  },
  "orig_nbformat": 4
 },
 "nbformat": 4,
 "nbformat_minor": 2
}
