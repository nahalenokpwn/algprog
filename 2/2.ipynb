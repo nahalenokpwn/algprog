{
 "cells": [
  {
   "cell_type": "code",
   "execution_count": 16,
   "metadata": {},
   "outputs": [],
   "source": [
    "using HorizonSideRobots"
   ]
  },
  {
   "cell_type": "code",
   "execution_count": 17,
   "metadata": {},
   "outputs": [],
   "source": [
    "a = Robot(\"untitled.sit\", animate=true);"
   ]
  },
  {
   "cell_type": "code",
   "execution_count": 18,
   "metadata": {},
   "outputs": [
    {
     "data": {
      "text/plain": [
       "fill_side (generic function with 1 method)"
      ]
     },
     "metadata": {},
     "output_type": "display_data"
    }
   ],
   "source": [
    "function fill_side(r, side)\n",
    "    while !isborder(r, side)\n",
    "        move!(r, side)\n",
    "        putmarker!(r)\n",
    "    end\n",
    "end"
   ]
  },
  {
   "cell_type": "code",
   "execution_count": 19,
   "metadata": {},
   "outputs": [],
   "source": [
    "function HorizonSideRobots.move!(r, side, steps)\n",
    "    for i in range(1, steps)\n",
    "        move!(r, side)\n",
    "    end\n",
    "end"
   ]
  },
  {
   "cell_type": "code",
   "execution_count": 20,
   "metadata": {},
   "outputs": [
    {
     "data": {
      "text/plain": [
       "main (generic function with 1 method)"
      ]
     },
     "metadata": {},
     "output_type": "display_data"
    }
   ],
   "source": [
    "function main(r)\n",
    "    steps_sud = 0\n",
    "    steps_west = 0\n",
    "    while !isborder(a, Sud)\n",
    "        move!(a, Sud)\n",
    "        steps_sud += 1\n",
    "    end\n",
    "    while !isborder(a, West)\n",
    "        move!(a, West)\n",
    "        steps_west += 1\n",
    "    end\n",
    "    fill_side(a, Nord)\n",
    "    fill_side(a, Ost)\n",
    "    fill_side(a, Sud)\n",
    "    fill_side(a, West)\n",
    "    move!(r, Nord, steps_sud)\n",
    "    move!(r, Ost, steps_west)\n",
    "end"
   ]
  },
  {
   "cell_type": "code",
   "execution_count": 21,
   "metadata": {},
   "outputs": [],
   "source": [
    "main(a)"
   ]
  }
 ],
 "metadata": {
  "kernelspec": {
   "display_name": "Julia 1.9.3",
   "language": "julia",
   "name": "julia-1.9"
  },
  "language_info": {
   "file_extension": ".jl",
   "mimetype": "application/julia",
   "name": "julia",
   "version": "1.9.3"
  },
  "orig_nbformat": 4
 },
 "nbformat": 4,
 "nbformat_minor": 2
}
